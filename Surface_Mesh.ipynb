{
 "cells": [
  {
   "cell_type": "code",
   "execution_count": 1,
   "metadata": {},
   "outputs": [],
   "source": [
    "import numpy as np\n",
    "import meshpy.triangle"
   ]
  },
  {
   "cell_type": "code",
   "execution_count": 2,
   "metadata": {},
   "outputs": [],
   "source": [
    "\n",
    "def create_mesh(boundary_points, max_area=0.025):\n",
    "    info = meshpy.triangle.MeshInfo()\n",
    "    info.set_points(boundary_points)\n",
    "\n",
    "    def _round_trip_connect(start, end):\n",
    "        return [(i, i + 1) for i in range(start, end)] + [(end, start)]\n",
    "\n",
    "    info.set_facets(_round_trip_connect(0, len(boundary_points) - 1))\n",
    "\n",
    "    def _needs_refinement(vertices, area):\n",
    "        global points_array\n",
    "        vert_origin, vert_destination, vert_apex = vertices\n",
    "        bary_x = (vert_origin.x + vert_destination.x + vert_apex.x) / 3\n",
    "        bary_y = (vert_origin.y + vert_destination.y + vert_apex.y) / 3\n",
    "        offsets = [[point[0]-bary_x, point[1]-bary_y] for point in points_array]\n",
    "        dist = [np.sqrt(point[0]**2 + point[1]**2) for point in offsets]\n",
    "        boundary_dist = np.amin(dist)\n",
    "        max_area = 250 * np.sqrt((boundary_dist+0.001))\n",
    "        return area > max_area\n",
    "\n",
    "    meshpy_mesh = meshpy.triangle.build(info, verbose=False, quality_meshing=True, min_angle=30, refinement_func=_needs_refinement)\n",
    "\n",
    "    pts = np.array(meshpy_mesh.points)\n",
    "    points = np.c_[pts[:, 0], pts[:, 1], np.zeros(len(pts))]\n",
    "\n",
    "    return points, np.array(meshpy_mesh.elements)\n"
   ]
  },
  {
   "cell_type": "code",
   "execution_count": 3,
   "metadata": {},
   "outputs": [],
   "source": [
    "\n",
    "\n",
    "if __name__ == \"__main__\":\n",
    "    import meshio    \n",
    "    surface_points = np.load('./surface.npy')\n",
    "    top_points = np.load('./top.npy')\n",
    "    left_points = np.load('./left.npy')\n",
    "    right_points = np.load('./right.npy')\n",
    "    all_points = np.vstack((surface_points, right_points, top_points, left_points))\n",
    "    \n",
    "    global points_array\n",
    "    points_array = np.array([[boundary_point[0], boundary_point[1]] for boundary_point in surface_points])\n",
    "\n",
    "    points, cells = create_mesh(all_points, max_area=25000)\n",
    "    mesh = meshio.Mesh(points, [(\"triangle\", cells)])\n",
    "    mesh.write(\"mesh.vtk\")"
   ]
  }
 ],
 "metadata": {
  "interpreter": {
   "hash": "916dbcbb3f70747c44a77c7bcd40155683ae19c65e1c03b4aa3499c5328201f1"
  },
  "kernelspec": {
   "display_name": "Python 3.8.10 64-bit",
   "language": "python",
   "name": "python3"
  },
  "language_info": {
   "codemirror_mode": {
    "name": "ipython",
    "version": 3
   },
   "file_extension": ".py",
   "mimetype": "text/x-python",
   "name": "python",
   "nbconvert_exporter": "python",
   "pygments_lexer": "ipython3",
   "version": "3.8.10"
  },
  "orig_nbformat": 4
 },
 "nbformat": 4,
 "nbformat_minor": 2
}
