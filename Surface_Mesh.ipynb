{
 "cells": [
  {
   "cell_type": "code",
   "execution_count": null,
   "metadata": {},
   "outputs": [],
   "source": [
    "import numpy as np\n",
    "import meshpy.triangle"
   ]
  },
  {
   "cell_type": "code",
   "execution_count": null,
   "metadata": {},
   "outputs": [],
   "source": [
    "\n",
    "def create_mesh(boundary_points, max_area=0.025):\n",
    "    info = meshpy.triangle.MeshInfo()\n",
    "    info.set_points(boundary_points)\n",
    "\n",
    "    def _round_trip_connect(start, end):\n",
    "        return [(i, i + 1) for i in range(start, end)] + [(end, start)]\n",
    "\n",
    "    info.set_facets(_round_trip_connect(0, len(boundary_points) - 1))\n",
    "\n",
    "    def _needs_refinement(vertices, area):\n",
    "        global points_array\n",
    "        vert_origin, vert_destination, vert_apex = vertices\n",
    "        bary_x = (vert_origin.x + vert_destination.x + vert_apex.x) / 3\n",
    "        bary_y = (vert_origin.y + vert_destination.y + vert_apex.y) / 3\n",
    "        offsets = [[point[0]-bary_x, point[1]-bary_y] for point in points_array]\n",
    "        dist = [np.sqrt(point[0]**2 + point[1]**2) for point in offsets]\n",
    "        boundary_dist = np.amin(dist)\n",
    "        max_area = 250 * np.sqrt((boundary_dist+0.001))\n",
    "        return area > max_area\n",
    "\n",
    "    meshpy_mesh = meshpy.triangle.build(info, verbose=False, quality_meshing=True, min_angle=30, refinement_func=_needs_refinement, allow_boundary_steiner=True)\n",
    "    pts = np.array(meshpy_mesh.points)\n",
    "    points = np.c_[pts[:, 0], pts[:, 1], np.zeros(len(pts))]\n",
    "\n",
    "    return points, np.array(meshpy_mesh.elements), np.array(meshpy_mesh.point_markers)\n"
   ]
  },
  {
   "cell_type": "code",
   "execution_count": null,
   "metadata": {},
   "outputs": [],
   "source": [
    "\n",
    "import meshio    \n",
    "surface_points = np.load('./surface.npy')\n",
    "top_points = np.load('./top.npy')\n",
    "left_points = np.load('./left.npy')\n",
    "right_points = np.load('./right.npy')\n",
    "all_points = np.vstack((surface_points, right_points, top_points, left_points))\n",
    "    \n",
    "global points_array\n",
    "points_array = np.array([[boundary_point[0], boundary_point[1]] for boundary_point in surface_points])\n",
    "points, triangles, boundary_markers = create_mesh(all_points, max_area=25000)\n"
   ]
  },
  {
   "cell_type": "code",
   "execution_count": null,
   "metadata": {},
   "outputs": [],
   "source": [
    "import matplotlib.pyplot as plt\n",
    "fig, ax = plt.subplots()\n",
    "boundary_point_ids = np.extract(boundary_markers==1, np.arange(len(points)))\n",
    "boundary_points = points[boundary_point_ids,:]\n",
    "xmin = np.min(all_points, axis=0)[0]\n",
    "xmax = np.max(all_points, axis=0)[0]\n",
    "hmax = np.amax(all_points, axis=0)[1]\n",
    "\n",
    "surface_points = np.array([point for point in boundary_points if point[0] > xmin and point[0] < xmax and point[1] < hmax])\n",
    "surface_point_ids = np.array([boundary_point_ids[i] for i in range(len(boundary_points)) if boundary_points[i,0] > xmin and boundary_points[i,0] < xmax and boundary_points[i,1] < hmax])\n",
    "top_points = np.array([point for point in boundary_points if point[0] > xmin and point[0] < xmax and np.abs(point[1]-hmax) <= 1])\n",
    "top_point_ids = np.array([boundary_point_ids[i] for i in range(len(boundary_points)) if boundary_points[i,0] > xmin and boundary_points[i,0] < xmax and np.abs(boundary_points[i,1]-hmax) <= 1])\n",
    "left_points = np.array([point for point in boundary_points if np.abs(point[0]-xmin) <= 1e-6])\n",
    "left_point_ids = np.array([boundary_point_ids[i] for i in range(len(boundary_points)) if np.abs(boundary_points[i,0]-xmin) <= 1e-6])\n",
    "right_points = np.array([point for point in boundary_points if np.abs(point[0]-xmax) <= 1e-6])\n",
    "right_point_ids = np.array([boundary_point_ids[i] for i in range(len(boundary_points)) if np.abs(boundary_points[i,0]-xmax) <= 1e-6])\n",
    "\n",
    "\n",
    "for data in [surface_point_ids, right_point_ids, top_point_ids, left_point_ids]:\n",
    "    plt.scatter(points[data,0], points[data,1])"
   ]
  },
  {
   "cell_type": "code",
   "execution_count": null,
   "metadata": {},
   "outputs": [],
   "source": [
    "surface_cells = [[surface_point_ids[i],surface_point_ids[i+1]] for i in range(len(surface_point_ids))]\n",
    "top_cells = [[top_point_ids[i],top_point_ids[i+1]] for i in range(len(top_point_ids))]\n",
    "left_cells = [[left_point_ids[i],left_point_ids[i+1]] for i in range(len(left_point_ids))]\n",
    "right_cells = [[right_point_ids[i],right_point_ids[i+1]] for i in range(len(right_point_ids))]"
   ]
  },
  {
   "cell_type": "code",
   "execution_count": null,
   "metadata": {},
   "outputs": [],
   "source": [
    "mesh = meshio.Mesh(\n",
    "    points=points, \n",
    "    cells=[(\"triangle\", triangles), ('line', surface_cells), ('line', right_cells), ('line', top_cells), ('line', left_cells)],\n",
    "    cell_data=\n",
    "        {\"gmsh:physical\": [[1 for tri in triangles], [2 for line in surface_cells], [3 for line in right_cells], [4 for line in top_cells], [5 for line in left_cells]],\n",
    "         \"gmsh:geometrical\": [[1 for tri in triangles], [2 for line in surface_cells], [3 for line in right_cells], [4 for line in top_cells], [5 for line in left_cells]]}\n",
    "    )\n",
    "mesh.write(\"mesh.vtk\")\n",
    "mesh.write(\"mesh.msh\", file_format=\"gmsh22\", binary=False)"
   ]
  },
  {
   "cell_type": "markdown",
   "metadata": {},
   "source": []
  }
 ],
 "metadata": {
  "interpreter": {
   "hash": "916dbcbb3f70747c44a77c7bcd40155683ae19c65e1c03b4aa3499c5328201f1"
  },
  "kernelspec": {
   "display_name": "Python 3.8.10 64-bit",
   "language": "python",
   "name": "python3"
  },
  "language_info": {
   "codemirror_mode": {
    "name": "ipython",
    "version": 3
   },
   "file_extension": ".py",
   "mimetype": "text/x-python",
   "name": "python",
   "nbconvert_exporter": "python",
   "pygments_lexer": "ipython3",
   "version": "3.8.10"
  },
  "orig_nbformat": 4
 },
 "nbformat": 4,
 "nbformat_minor": 2
}
