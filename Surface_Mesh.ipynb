{
 "cells": [
  {
   "cell_type": "code",
   "execution_count": 1,
   "metadata": {},
   "outputs": [],
   "source": [
    "import numpy as np\n",
    "import meshpy.triangle"
   ]
  },
  {
   "cell_type": "code",
   "execution_count": 2,
   "metadata": {},
   "outputs": [],
   "source": [
    "\n",
    "def create_mesh(boundary_points, max_area=0.025):\n",
    "    info = meshpy.triangle.MeshInfo()\n",
    "    info.set_points(boundary_points)\n",
    "\n",
    "    def _round_trip_connect(start, end):\n",
    "        return [(i, i + 1) for i in range(start, end)] + [(end, start)]\n",
    "\n",
    "    info.set_facets(_round_trip_connect(0, len(boundary_points) - 1))\n",
    "\n",
    "    def _needs_refinement(vertices, area):\n",
    "        global points_array\n",
    "        vert_origin, vert_destination, vert_apex = vertices\n",
    "        bary_x = (vert_origin.x + vert_destination.x + vert_apex.x) / 3\n",
    "        bary_y = (vert_origin.y + vert_destination.y + vert_apex.y) / 3\n",
    "        offsets = [[point[0]-bary_x, point[1]-bary_y] for point in points_array]\n",
    "        dist = [np.sqrt(point[0]**2 + point[1]**2) for point in offsets]\n",
    "        boundary_dist = np.amin(dist)\n",
    "        max_area = 250 * np.sqrt((boundary_dist+0.001))\n",
    "        return area > max_area\n",
    "\n",
    "    meshpy_mesh = meshpy.triangle.build(info, verbose=False, quality_meshing=True, min_angle=30, refinement_func=_needs_refinement, allow_boundary_steiner=True)\n",
    "    pts = np.array(meshpy_mesh.points)\n",
    "    points = np.c_[pts[:, 0], pts[:, 1], np.zeros(len(pts))]\n",
    "\n",
    "    return points, np.array(meshpy_mesh.elements), np.array(meshpy_mesh.point_markers)\n"
   ]
  },
  {
   "cell_type": "code",
   "execution_count": 3,
   "metadata": {},
   "outputs": [],
   "source": [
    "\n",
    "\n",
    "if __name__ == \"__main__\":\n",
    "    import meshio    \n",
    "    surface_points = np.load('./surface.npy')\n",
    "    top_points = np.load('./top.npy')\n",
    "    left_points = np.load('./left.npy')\n",
    "    right_points = np.load('./right.npy')\n",
    "    all_points = np.vstack((surface_points, right_points, top_points, left_points))\n",
    "    \n",
    "    global points_array\n",
    "    points_array = np.array([[boundary_point[0], boundary_point[1]] for boundary_point in surface_points])\n",
    "    points, triangles, boundary_markers = create_mesh(all_points, max_area=25000)\n"
   ]
  },
  {
   "cell_type": "code",
   "execution_count": 61,
   "metadata": {},
   "outputs": [
    {
     "name": "stdout",
     "output_type": "stream",
     "text": [
      "1001\n",
      "[   0    1    2 ... 2052 2244 2748]\n",
      "1001\n"
     ]
    },
    {
     "data": {
      "image/png": "[encoded data removed]",
      "text/plain": [
       "<Figure size 432x288 with 1 Axes>"
      ]
     },
     "metadata": {
      "needs_background": "light"
     },
     "output_type": "display_data"
    }
   ],
   "source": [
    "import matplotlib.pyplot as plt\n",
    "fig, ax = plt.subplots()\n",
    "boundary_point_ids = np.extract(boundary_markers==1, np.arange(len(points)))\n",
    "boundary_points = points[boundary_point_ids,:]\n",
    "xmin = np.min(all_points, axis=0)[0]\n",
    "xmax = np.max(all_points, axis=0)[0]\n",
    "hmax = np.amax(all_points, axis=0)[1]\n",
    "\n",
    "surface_points = np.array([point for point in boundary_points if point[0] > xmin and point[0] < xmax and point[1] < hmax])\n",
    "surface_point_ids = np.array([boundary_point_ids[i] for i in range(len(boundary_points)) if boundary_points[i,0] > xmin and boundary_points[i,0] < xmax and boundary_points[i,1] < hmax])\n",
    "top_points = np.array([point for point in boundary_points if point[0] > xmin and point[0] < xmax and np.abs(point[1]-hmax) <= 1])\n",
    "top_point_ids = np.array([boundary_point_ids[i] for i in range(len(boundary_points)) if boundary_points[i,0] > xmin and boundary_points[i,0] < xmax and np.abs(boundary_points[i,1]-hmax) <= 1])\n",
    "left_points = np.array([point for point in boundary_points if np.abs(point[0]-xmin) <= 1e-6])\n",
    "left_point_ids = np.array([boundary_point_ids[i] for i in range(len(boundary_points)) if np.abs(boundary_points[i,0]-xmin) <= 1e-6])\n",
    "right_points = np.array([point for point in boundary_points if np.abs(point[0]-xmax) <= 1e-6])\n",
    "right_point_ids = np.array([boundary_point_ids[i] for i in range(len(boundary_points)) if np.abs(boundary_points[i,0]-xmax) <= 1e-6])\n",
    "\n",
    "print(len(surface_points))\n",
    "#surface_point_ids = [np.where(points == point) for point in surface_points]\n",
    "print(surface_point_ids)\n",
    "print(len(surface_point_ids))\n",
    "\n",
    "for data in [surface_point_ids, right_point_ids, top_point_ids, left_point_ids]:\n",
    "    plt.scatter(points[data,0], points[data,1])"
   ]
  },
  {
   "cell_type": "code",
   "execution_count": 68,
   "metadata": {},
   "outputs": [],
   "source": [
    "surface_cells = [[i,i+1] for i in surface_point_ids]\n",
    "top_cells = [[i,i+1] for i in top_point_ids]\n",
    "left_cells = [[i,i+1] for i in left_point_ids]\n",
    "right_cells = [[i,i+1] for i in right_point_ids]"
   ]
  },
  {
   "cell_type": "code",
   "execution_count": 70,
   "metadata": {},
   "outputs": [
    {
     "ename": "AttributeError",
     "evalue": "'list' object has no attribute 'items'",
     "output_type": "error",
     "traceback": [
      "\u001b[0;31m---------------------------------------------------------------------------\u001b[0m",
      "\u001b[0;31mAttributeError\u001b[0m                            Traceback (most recent call last)",
      "\u001b[0;32m/tmp/ipykernel_7742/277684817.py\u001b[0m in \u001b[0;36m<module>\u001b[0;34m\u001b[0m\n\u001b[1;32m      2\u001b[0m \u001b[0;31m#TODO: Add physical groups\u001b[0m\u001b[0;34m\u001b[0m\u001b[0;34m\u001b[0m\u001b[0;34m\u001b[0m\u001b[0m\n\u001b[1;32m      3\u001b[0m \u001b[0;31m#mesh = meshio.Mesh(points=points, cells=[(\"triangle\", triangles)])\u001b[0m\u001b[0;34m\u001b[0m\u001b[0;34m\u001b[0m\u001b[0;34m\u001b[0m\u001b[0m\n\u001b[0;32m----> 4\u001b[0;31m mesh = meshio.Mesh(\n\u001b[0m\u001b[1;32m      5\u001b[0m     \u001b[0mpoints\u001b[0m\u001b[0;34m=\u001b[0m\u001b[0mpoints\u001b[0m\u001b[0;34m,\u001b[0m\u001b[0;34m\u001b[0m\u001b[0;34m\u001b[0m\u001b[0m\n\u001b[1;32m      6\u001b[0m     \u001b[0mcells\u001b[0m\u001b[0;34m=\u001b[0m\u001b[0;34m[\u001b[0m\u001b[0;34m(\u001b[0m\u001b[0;34m\"triangle\"\u001b[0m\u001b[0;34m,\u001b[0m \u001b[0mtriangles\u001b[0m\u001b[0;34m)\u001b[0m\u001b[0;34m,\u001b[0m \u001b[0;34m(\u001b[0m\u001b[0;34m'line'\u001b[0m\u001b[0;34m,\u001b[0m \u001b[0msurface_cells\u001b[0m\u001b[0;34m)\u001b[0m\u001b[0;34m,\u001b[0m \u001b[0;34m(\u001b[0m\u001b[0;34m'line'\u001b[0m\u001b[0;34m,\u001b[0m \u001b[0mright_cells\u001b[0m\u001b[0;34m)\u001b[0m\u001b[0;34m,\u001b[0m \u001b[0;34m(\u001b[0m\u001b[0;34m'line'\u001b[0m\u001b[0;34m,\u001b[0m \u001b[0mtop_cells\u001b[0m\u001b[0;34m)\u001b[0m\u001b[0;34m,\u001b[0m \u001b[0;34m(\u001b[0m\u001b[0;34m'line'\u001b[0m\u001b[0;34m,\u001b[0m \u001b[0mleft_cells\u001b[0m\u001b[0;34m)\u001b[0m\u001b[0;34m]\u001b[0m\u001b[0;34m,\u001b[0m\u001b[0;34m\u001b[0m\u001b[0;34m\u001b[0m\u001b[0m\n",
      "\u001b[0;32m~/.local/lib/python3.8/site-packages/meshio/_mesh.py\u001b[0m in \u001b[0;36m__init__\u001b[0;34m(self, points, cells, point_data, cell_data, field_data, point_sets, cell_sets, gmsh_periodic, info)\u001b[0m\n\u001b[1;32m     66\u001b[0m \u001b[0;34m\u001b[0m\u001b[0m\n\u001b[1;32m     67\u001b[0m         \u001b[0;31m# assert cell data consistency and convert to numpy arrays\u001b[0m\u001b[0;34m\u001b[0m\u001b[0;34m\u001b[0m\u001b[0;34m\u001b[0m\u001b[0m\n\u001b[0;32m---> 68\u001b[0;31m         \u001b[0;32mfor\u001b[0m \u001b[0mkey\u001b[0m\u001b[0;34m,\u001b[0m \u001b[0mdata\u001b[0m \u001b[0;32min\u001b[0m \u001b[0mself\u001b[0m\u001b[0;34m.\u001b[0m\u001b[0mcell_data\u001b[0m\u001b[0;34m.\u001b[0m\u001b[0mitems\u001b[0m\u001b[0;34m(\u001b[0m\u001b[0;34m)\u001b[0m\u001b[0;34m:\u001b[0m\u001b[0;34m\u001b[0m\u001b[0;34m\u001b[0m\u001b[0m\n\u001b[0m\u001b[1;32m     69\u001b[0m             \u001b[0;32mif\u001b[0m \u001b[0mlen\u001b[0m\u001b[0;34m(\u001b[0m\u001b[0mdata\u001b[0m\u001b[0;34m)\u001b[0m \u001b[0;34m!=\u001b[0m \u001b[0mlen\u001b[0m\u001b[0;34m(\u001b[0m\u001b[0mcells\u001b[0m\u001b[0;34m)\u001b[0m\u001b[0;34m:\u001b[0m\u001b[0;34m\u001b[0m\u001b[0;34m\u001b[0m\u001b[0m\n\u001b[1;32m     70\u001b[0m                 raise ValueError(\n",
      "\u001b[0;31mAttributeError\u001b[0m: 'list' object has no attribute 'items'"
     ]
    }
   ],
   "source": [
    "    #TODO: Add line elements\n",
    "    #TODO: Add physical groups\n",
    "    #mesh = meshio.Mesh(points=points, cells=[(\"triangle\", triangles)])\n",
    "    mesh = meshio.Mesh(\n",
    "        points=points, \n",
    "        cells=[(\"triangle\", triangles), ('line', surface_cells), ('line', right_cells), ('line', top_cells), ('line', left_cells)],\n",
    "        cell_data=[\n",
    "            {\"gmsh:physical\": [[1 for tri in triangles], [2 for line in surface_cells], [3 for line in right_cells], [4 for line in top_cells], [5 for line in left_cells]]},\n",
    "            {\"gmsh:geometrical\": [[1 for tri in triangles], [2 for line in surface_cells], [3 for line in right_cells], [4 for line in top_cells], [5 for line in left_cells]]}]\n",
    "        )\n",
    "    #mesh = meshio.Mesh(points=points, cells=[(\"triangle\", cells), ('line', [[0,1], [1,2]])])\n",
    "    print(mesh.cell_data)\n",
    "    mesh.write(\"mesh.vtk\")\n",
    "    mesh.write(\"mesh.msh\", file_format=\"gmsh22\", binary=False)"
   ]
  },
  {
   "cell_type": "markdown",
   "metadata": {},
   "source": []
  }
 ],
 "metadata": {
  "interpreter": {
   "hash": "916dbcbb3f70747c44a77c7bcd40155683ae19c65e1c03b4aa3499c5328201f1"
  },
  "kernelspec": {
   "display_name": "Python 3.8.10 64-bit",
   "language": "python",
   "name": "python3"
  },
  "language_info": {
   "codemirror_mode": {
    "name": "ipython",
    "version": 3
   },
   "file_extension": ".py",
   "mimetype": "text/x-python",
   "name": "python",
   "nbconvert_exporter": "python",
   "pygments_lexer": "ipython3",
   "version": "3.8.10"
  },
  "orig_nbformat": 4
 },
 "nbformat": 4,
 "nbformat_minor": 2
}
