{
 "cells": [
  {
   "cell_type": "markdown",
   "metadata": {},
   "source": [
    "# Mesh Generator for 2D Meshes from SRTM data\n",
    "\n",
    "[Data source](http://viewfinderpanoramas.org/dem3.html)\n",
    "\n",
    "[File format description](https://librenepal.com/article/reading-srtm-data-with-python/)\n",
    "\n",
    "[Utilized reader](https://github.com/adamcharnock/python-srtm)"
   ]
  },
  {
   "cell_type": "code",
   "execution_count": null,
   "metadata": {},
   "outputs": [],
   "source": [
    "\n",
    "!python3 -m pip install --upgrade pip\n",
    "!python3 -m pip install -r requirements.txt"
   ]
  },
  {
   "cell_type": "markdown",
   "metadata": {},
   "source": [
    "## User input\n",
    "  - point A\n",
    "  - point B\n",
    "  - resolution"
   ]
  },
  {
   "cell_type": "code",
   "execution_count": null,
   "metadata": {},
   "outputs": [],
   "source": [
    "# Letterspitze\n",
    "lat_min = 46.64261\n",
    "lon_min = 12.79465\n",
    "\n",
    "# Goiselemandl\n",
    "lat_max = 46.88674\n",
    "lon_max = 12.77728\n",
    "res = 5000"
   ]
  },
  {
   "cell_type": "markdown",
   "metadata": {},
   "source": [
    "## Get SRTM Data"
   ]
  },
  {
   "cell_type": "code",
   "execution_count": null,
   "metadata": {},
   "outputs": [],
   "source": [
    "from math import floor, ceil\n",
    "from numpy import arange\n",
    "latitude_data_sets = arange(floor(lat_min), floor(lat_max)+1)\n",
    "longitude_data_sets = arange(floor(lon_min), floor(lon_max)+1)\n",
    "\n",
    "import requests\n",
    "import os\n",
    "import zipfile\n",
    "try:\n",
    "    os.mkdir('./downloads')\n",
    "except FileExistsError:\n",
    "    pass\n",
    "\n",
    "for lat in latitude_data_sets:\n",
    "    for lon in longitude_data_sets:\n",
    "\n",
    "        srtm_patch_name = \"N%02dE%03d\" %(lat,lon)\n",
    "        data_set_name = \"http://viewfinderpanoramas.org/dem1/%s.zip\" %srtm_patch_name\n",
    "        print(\"Downloading %s\" %data_set_name)\n",
    "        data = requests.get(data_set_name)\n",
    "        with open(\"./downloads/%s.zip\" %srtm_patch_name,'wb') as f:\n",
    "            f.write(data.content)\n",
    "            f.close()\n",
    "\n",
    "        file_to_extract = \"%s.hgt\" %srtm_patch_name\n",
    "        try:\n",
    "            with zipfile.ZipFile(\"./downloads/%s.zip\" %srtm_patch_name) as z:\n",
    "                with open(file_to_extract, 'wb') as f:\n",
    "                    f.write(z.read(file_to_extract))\n",
    "                    print(\"Extracted\", file_to_extract)\n",
    "        except:\n",
    "            print(\"Invalid file\")"
   ]
  },
  {
   "cell_type": "markdown",
   "metadata": {},
   "source": [
    "## Read SRTM data"
   ]
  },
  {
   "cell_type": "code",
   "execution_count": null,
   "metadata": {},
   "outputs": [],
   "source": [
    "os.environ['SRTM1_DIR'] = \"./\"\n",
    "\n",
    "from srtm import Srtm1HeightMapCollection\n",
    "srtm1_data = Srtm1HeightMapCollection()\n",
    "h = [srtm1_data.get_altitude(latitude=lat, longitude=lon) for (lat, lon) in zip(\n",
    "    arange(lat_min, lat_max, (lat_max-lat_min)/res), \n",
    "    arange(lon_min, lon_max, (lon_max-lon_min)/res))]\n",
    "\n",
    "from numpy import sqrt\n",
    "r = [sqrt((lat-lat_min)**2 + (lon-lon_min)**2) for (lat, lon) in zip(\n",
    "    arange(lat_min, lat_max, (lat_max-lat_min)/res), \n",
    "    arange(lon_min, lon_max, (lon_max-lon_min)/res))]"
   ]
  },
  {
   "cell_type": "markdown",
   "metadata": {},
   "source": [
    "## Convert to m\n",
    "$1^{\\circ} \\approx 60\\text{NM} = 60*1.852\\text{km}$"
   ]
  },
  {
   "cell_type": "code",
   "execution_count": null,
   "metadata": {},
   "outputs": [],
   "source": [
    "from numpy import array\n",
    "x = 1852.0*60*array(r)"
   ]
  },
  {
   "cell_type": "markdown",
   "metadata": {},
   "source": [
    "## Plot"
   ]
  },
  {
   "cell_type": "code",
   "execution_count": null,
   "metadata": {},
   "outputs": [],
   "source": [
    "import matplotlib.pyplot as plt\n",
    "fig, ax = plt.subplots()\n",
    "ax.set_aspect('equal')\n",
    "plt.plot(x, h)\n",
    "plt.rcParams[\"figure.figsize\"] = (40,10)"
   ]
  },
  {
   "cell_type": "markdown",
   "metadata": {},
   "source": [
    "## Export as boundary mesh to be used in 2D Mesh generator etc."
   ]
  },
  {
   "cell_type": "code",
   "execution_count": null,
   "metadata": {},
   "outputs": [],
   "source": [
    "import meshio\n",
    "from numpy import vstack, transpose\n",
    "\n",
    "points = transpose(vstack((x,h)))\n",
    "line_ien = [[i,i+1] for i in range(res)]\n",
    "cells = [(\"line\", line_ien)]\n",
    "mesh = meshio.Mesh(points, cells)\n",
    "mesh.write(\"profile.vtk\")"
   ]
  }
 ],
 "metadata": {
  "interpreter": {
   "hash": "916dbcbb3f70747c44a77c7bcd40155683ae19c65e1c03b4aa3499c5328201f1"
  },
  "kernelspec": {
   "display_name": "Python 3.8.10 64-bit",
   "language": "python",
   "name": "python3"
  },
  "language_info": {
   "codemirror_mode": {
    "name": "ipython",
    "version": 3
   },
   "file_extension": ".py",
   "mimetype": "text/x-python",
   "name": "python",
   "nbconvert_exporter": "python",
   "pygments_lexer": "ipython3",
   "version": "3.8.10"
  },
  "orig_nbformat": 4
 },
 "nbformat": 4,
 "nbformat_minor": 2
}
